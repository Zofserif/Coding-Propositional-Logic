{
 "cells": [
  {
   "cell_type": "markdown",
   "metadata": {},
   "source": [
    "<h1>Question 1</h1>"
   ]
  },
  {
   "cell_type": "code",
   "execution_count": 6,
   "metadata": {},
   "outputs": [
    {
     "name": "stdout",
     "output_type": "stream",
     "text": [
      "Receipt: You ordered Cheese Burger Deluxe and sundae!\n"
     ]
    }
   ],
   "source": [
    "Cheese_burger = True\n",
    "Sundae = True\n",
    "Fries_and_Drinks = False\n",
    "\n",
    "if Cheese_burger and Sundae == True:\n",
    "    print(\"Receipt: You ordered Cheese Burger Deluxe and sundae!\")\n",
    "    if Fries_and_Drinks == True:\n",
    "        print(\"Receipt: With additional Fries and Drinks!\")\n"
   ]
  },
  {
   "cell_type": "markdown",
   "metadata": {},
   "source": [
    "p: Cheese Burger Deluxe <br>\n",
    "q: Sundae <br>\n",
    "r: Ask for fries and drinks <br>\n",
    "W.F.F. :(p ^ q) --> r"
   ]
  },
  {
   "cell_type": "markdown",
   "metadata": {},
   "source": [
    "u: The customer will get Cheese Burger Deluxe, sundae, drinks, and fries. <br>\n",
    "s: The customer will get Cheese Burger Deluxe and sundae."
   ]
  },
  {
   "cell_type": "markdown",
   "metadata": {},
   "source": [
    "<img src=\"img/question1.png\" align=\"center\"/>"
   ]
  },
  {
   "cell_type": "markdown",
   "metadata": {},
   "source": [
    "<h1>Question 2</h1>"
   ]
  },
  {
   "cell_type": "markdown",
   "metadata": {},
   "source": [
    "def transfer_to_resource(reservoir, pool):\n",
    "\n",
    "if pool <= 10 and reservoir > 20:\n",
    "pool = reservoir\n",
    "\n",
    "\n",
    "return pool\n",
    "\n",
    "\n",
    "Determine the WFFs and decode it to its original English statement. Use the math formula in the text editor. WFFs that will not use the math formula feature will not be credited. Refrain from using (^ , v, ~ )."
   ]
  },
  {
   "cell_type": "markdown",
   "metadata": {},
   "source": [
    "English statement: If the pool is less than or equal to 10 cubic meters and the reservoir is greater than 20 cubic meters, transfer the water from reservoir to the pool."
   ]
  },
  {
   "cell_type": "code",
   "execution_count": null,
   "metadata": {},
   "outputs": [],
   "source": []
  }
 ],
 "metadata": {
  "kernelspec": {
   "display_name": "Python 3",
   "language": "python",
   "name": "python3"
  },
  "language_info": {
   "codemirror_mode": {
    "name": "ipython",
    "version": 3
   },
   "file_extension": ".py",
   "mimetype": "text/x-python",
   "name": "python",
   "nbconvert_exporter": "python",
   "pygments_lexer": "ipython3",
   "version": "3.8.3"
  }
 },
 "nbformat": 4,
 "nbformat_minor": 4
}
